{
 "cells": [
  {
   "cell_type": "markdown",
   "metadata": {},
   "source": [
    "# Hyperparameter tuning with Ray Tune"
   ]
  },
  {
   "cell_type": "markdown",
   "metadata": {},
   "source": [
    "Here using the MNIST dataset and the Pytorch model, the learning rate and decay are tuned."
   ]
  },
  {
   "cell_type": "code",
   "execution_count": 1,
   "metadata": {},
   "outputs": [],
   "source": [
    "from pathlib import Path\n",
    "import numpy as np\n",
    "\n",
    "# Import pytorch modules\n",
    "import torch\n",
    "import torch.nn as nn\n",
    "import torch.nn.functional as F\n",
    "from torchvision import datasets, transforms\n",
    "from torch.utils.data import DataLoader\n",
    "\n",
    "# Import ray modules\n",
    "import ray\n",
    "from ray import air, tune\n",
    "from ray.air import session\n",
    "from ray.tune.schedulers import ASHAScheduler"
   ]
  },
  {
   "cell_type": "markdown",
   "metadata": {},
   "source": [
    "### Creating Pytorch models and the standard training code."
   ]
  },
  {
   "cell_type": "code",
   "execution_count": 2,
   "metadata": {},
   "outputs": [],
   "source": [
    "class SimpleConvNet(nn.Module):\n",
    "    def __init__(self):\n",
    "        super().__init__()\n",
    "        self.conv = nn.Conv2d(1, 3, kernel_size=3)\n",
    "        self.fc = nn.Linear(192, 10)\n",
    "\n",
    "    def forward(self, x):\n",
    "        x = F.relu(F.max_pool2d(self.conv(x), 3))\n",
    "        x = x.view(-1, 192)\n",
    "        x = self.fc(x)\n",
    "        x = F.log_softmax(x, dim=1)\n",
    "        return x"
   ]
  },
  {
   "cell_type": "code",
   "execution_count": 3,
   "metadata": {},
   "outputs": [],
   "source": [
    "def train(model, optimizer, train_loader):\n",
    "    device = torch.device(\"cuda\" if torch.cuda.is_available() else \"cpu\")\n",
    "    model.train()\n",
    "    for batch_idx, (data, target) in enumerate(train_loader):\n",
    "        data, target = data.to(device), target.to(device)\n",
    "        optimizer.zero_grad()\n",
    "        output = model(data)\n",
    "        loss = F.nll_loss(output, target)\n",
    "        loss.backward()\n",
    "        optimizer.step()\n",
    "\n",
    "\n",
    "def test(model, data_loader):\n",
    "    device = torch.device(\"cuda\" if torch.cuda.is_available() else \"cpu\")\n",
    "    model.eval()\n",
    "    correct = 0\n",
    "    total = 0\n",
    "    with torch.no_grad():\n",
    "        for batch_idx, (data, target) in enumerate(data_loader):\n",
    "            data, target = data.to(device), target.to(device)\n",
    "            outputs = model(data)\n",
    "            _, predicted = torch.max(outputs.data, 1)\n",
    "            total += target.size(0)\n",
    "            correct += (predicted == target).sum().item()\n",
    "\n",
    "    return correct / total * 100"
   ]
  },
  {
   "cell_type": "markdown",
   "metadata": {},
   "source": [
    "### Define trainable function"
   ]
  },
  {
   "cell_type": "markdown",
   "metadata": {},
   "source": [
    "![Distributed training per trial](https://docs.ray.io/en/latest/_images/tuning_use_case.png)"
   ]
  },
  {
   "cell_type": "code",
   "execution_count": 4,
   "metadata": {},
   "outputs": [],
   "source": [
    "# trainable function requires a config argument.\n",
    "def train_mnist(config: dict):\n",
    "    data_path = config[\"data_path\"]\n",
    "    mnist_transforms = transforms.Compose(\n",
    "        [\n",
    "            transforms.ToTensor(),\n",
    "            transforms.Normalize((0.1307, ), (0.3081, ))\n",
    "        ]\n",
    "    )\n",
    "\n",
    "    train_loader = DataLoader(\n",
    "        datasets.MNIST(data_path, train=True, download=True, transform=mnist_transforms),\n",
    "        batch_size=256,\n",
    "        shuffle=True\n",
    "    )\n",
    "    test_loader = DataLoader(\n",
    "        datasets.MNIST(data_path, train=False, transform=mnist_transforms),\n",
    "        batch_size=256,\n",
    "        shuffle=True\n",
    "    )\n",
    "\n",
    "    device = torch.device(\"cuda\" if torch.cuda.is_available() else \"cpu\")\n",
    "\n",
    "    model = SimpleConvNet()\n",
    "    model.to(device)\n",
    "\n",
    "    optimizer = torch.optim.AdamW(model.parameters(), lr=config[\"lr\"], weight_decay=config[\"weight_decay\"])\n",
    "    for i in range(10):\n",
    "        train(model, optimizer, train_loader)\n",
    "        acc = test(model, test_loader)\n",
    "\n",
    "        # Send the current training result back to Tune\n",
    "        # This will be used by the scheduler to decide the next trial and see the result in the dashboard\n",
    "        session.report({\"mean_accuracy\": acc})\n",
    "\n",
    "        if i % 5 == 0:\n",
    "            torch.save(model.state_dict(), \"./model.pth\")"
   ]
  },
  {
   "cell_type": "code",
   "execution_count": 5,
   "metadata": {},
   "outputs": [
    {
     "data": {
      "text/html": [
       "<div class=\"tuneStatus\">\n",
       "  <div style=\"display: flex;flex-direction: row\">\n",
       "    <div style=\"display: flex;flex-direction: column;\">\n",
       "      <h3>Tune Status</h3>\n",
       "      <table>\n",
       "<tbody>\n",
       "<tr><td>Current time:</td><td>2023-07-25 17:11:39</td></tr>\n",
       "<tr><td>Running for: </td><td>00:03:27.23        </td></tr>\n",
       "<tr><td>Memory:      </td><td>26.3/63.7 GiB      </td></tr>\n",
       "</tbody>\n",
       "</table>\n",
       "    </div>\n",
       "    <div class=\"vDivider\"></div>\n",
       "    <div class=\"systemInfo\">\n",
       "      <h3>System Info</h3>\n",
       "      Using AsyncHyperBand: num_stopped=7<br>Bracket: Iter 64.000: None | Iter 16.000: None | Iter 4.000: 87.995 | Iter 1.000: 81.5425<br>Logical resource usage: 1.0/16 CPUs, 0/2 GPUs\n",
       "    </div>\n",
       "    \n",
       "  </div>\n",
       "  <div class=\"hDivider\"></div>\n",
       "  <div class=\"trialStatus\">\n",
       "    <h3>Trial Status</h3>\n",
       "    <table>\n",
       "<thead>\n",
       "<tr><th>Trial name             </th><th>status    </th><th>loc            </th><th style=\"text-align: right;\">  weight_decay</th><th style=\"text-align: right;\">  acc</th><th style=\"text-align: right;\">  iter</th><th style=\"text-align: right;\">  total time (s)</th></tr>\n",
       "</thead>\n",
       "<tbody>\n",
       "<tr><td>train_mnist_66564_00000</td><td>TERMINATED</td><td>127.0.0.1:14260</td><td style=\"text-align: right;\">      0.321078</td><td style=\"text-align: right;\"> 8.32</td><td style=\"text-align: right;\">     1</td><td style=\"text-align: right;\">         38.8702</td></tr>\n",
       "<tr><td>train_mnist_66564_00001</td><td>TERMINATED</td><td>127.0.0.1:6732 </td><td style=\"text-align: right;\">      0.850127</td><td style=\"text-align: right;\">10.1 </td><td style=\"text-align: right;\">     1</td><td style=\"text-align: right;\">         38.7282</td></tr>\n",
       "<tr><td>train_mnist_66564_00002</td><td>TERMINATED</td><td>127.0.0.1:31236</td><td style=\"text-align: right;\">      0.313321</td><td style=\"text-align: right;\">10.57</td><td style=\"text-align: right;\">     1</td><td style=\"text-align: right;\">         38.7112</td></tr>\n",
       "<tr><td>train_mnist_66564_00003</td><td>TERMINATED</td><td>127.0.0.1:25432</td><td style=\"text-align: right;\">      0.560092</td><td style=\"text-align: right;\">11.48</td><td style=\"text-align: right;\">     1</td><td style=\"text-align: right;\">         38.5442</td></tr>\n",
       "<tr><td>train_mnist_66564_00004</td><td>TERMINATED</td><td>127.0.0.1:12100</td><td style=\"text-align: right;\">      0.898602</td><td style=\"text-align: right;\">74.24</td><td style=\"text-align: right;\">    10</td><td style=\"text-align: right;\">        196.814 </td></tr>\n",
       "<tr><td>train_mnist_66564_00005</td><td>TERMINATED</td><td>127.0.0.1:14084</td><td style=\"text-align: right;\">      0.495735</td><td style=\"text-align: right;\"> 6.53</td><td style=\"text-align: right;\">    10</td><td style=\"text-align: right;\">        190.27  </td></tr>\n",
       "<tr><td>train_mnist_66564_00006</td><td>TERMINATED</td><td>127.0.0.1:28920</td><td style=\"text-align: right;\">      0.515725</td><td style=\"text-align: right;\">84.46</td><td style=\"text-align: right;\">     1</td><td style=\"text-align: right;\">         38.5892</td></tr>\n",
       "<tr><td>train_mnist_66564_00007</td><td>TERMINATED</td><td>127.0.0.1:29192</td><td style=\"text-align: right;\">      0.319952</td><td style=\"text-align: right;\"> 8.68</td><td style=\"text-align: right;\">     1</td><td style=\"text-align: right;\">         39.4049</td></tr>\n",
       "<tr><td>train_mnist_66564_00008</td><td>TERMINATED</td><td>127.0.0.1:3572 </td><td style=\"text-align: right;\">      0.170902</td><td style=\"text-align: right;\">94.71</td><td style=\"text-align: right;\">    10</td><td style=\"text-align: right;\">        190.966 </td></tr>\n",
       "<tr><td>train_mnist_66564_00009</td><td>TERMINATED</td><td>127.0.0.1:22744</td><td style=\"text-align: right;\">      0.399073</td><td style=\"text-align: right;\">73.39</td><td style=\"text-align: right;\">     1</td><td style=\"text-align: right;\">         39.3259</td></tr>\n",
       "</tbody>\n",
       "</table>\n",
       "  </div>\n",
       "</div>\n",
       "<style>\n",
       ".tuneStatus {\n",
       "  color: var(--jp-ui-font-color1);\n",
       "}\n",
       ".tuneStatus .systemInfo {\n",
       "  display: flex;\n",
       "  flex-direction: column;\n",
       "}\n",
       ".tuneStatus td {\n",
       "  white-space: nowrap;\n",
       "}\n",
       ".tuneStatus .trialStatus {\n",
       "  display: flex;\n",
       "  flex-direction: column;\n",
       "}\n",
       ".tuneStatus h3 {\n",
       "  font-weight: bold;\n",
       "}\n",
       ".tuneStatus .hDivider {\n",
       "  border-bottom-width: var(--jp-border-width);\n",
       "  border-bottom-color: var(--jp-border-color0);\n",
       "  border-bottom-style: solid;\n",
       "}\n",
       ".tuneStatus .vDivider {\n",
       "  border-left-width: var(--jp-border-width);\n",
       "  border-left-color: var(--jp-border-color0);\n",
       "  border-left-style: solid;\n",
       "  margin: 0.5em 1em 0.5em 1em;\n",
       "}\n",
       "</style>\n"
      ],
      "text/plain": [
       "<IPython.core.display.HTML object>"
      ]
     },
     "metadata": {},
     "output_type": "display_data"
    },
    {
     "name": "stderr",
     "output_type": "stream",
     "text": [
      "\u001b[2m\u001b[36m(train_mnist pid=14084)\u001b[0m Caught sync error: Sync process failed: GetFileInfo() yielded path 'C:/Users/lcglab/ray_results/train_mnist_2023-07-25_17-08-12/train_mnist_66564_00005_5_weight_decay=0.4957_2023-07-25_17-08-12/events.out.tfevents.1690272502.DESKTOP-TSBOB2F', which is outside base dir 'C:\\Users\\lcglab\\ray_results\\train_mnist_2023-07-25_17-08-12\\train_mnist_66564_00005_5_weight_decay=0.4957_2023-07-25_17-08-12\\'. Retrying after sleeping for 1.0 seconds...\n",
      "\u001b[2m\u001b[36m(train_mnist pid=14084)\u001b[0m Could not upload checkpoint to c://\\Users\\lcglab\\ray_results\\train_mnist_2023-07-25_17-08-12\\train_mnist_66564_00005_5_weight_decay=0.4957_2023-07-25_17-08-12 even after 3 retries.Please check if the credentials expired and that the remote filesystem is supported. For large checkpoints or artifacts, consider increasing `SyncConfig(sync_timeout)` (current value: 1800 seconds).\n",
      "2023-07-25 17:11:39,678\tWARNING tune.py:1122 -- Trial Runner checkpointing failed: Sync process failed: GetFileInfo() yielded path 'C:/Users/lcglab/ray_results/train_mnist_2023-07-25_17-08-12/basic-variant-state-2023-07-25_17-08-12.json', which is outside base dir 'C:\\Users\\lcglab\\ray_results\\train_mnist_2023-07-25_17-08-12'\n",
      "\u001b[2m\u001b[36m(train_mnist pid=12100)\u001b[0m Caught sync error: Sync process failed: GetFileInfo() yielded path 'C:/Users/lcglab/ray_results/train_mnist_2023-07-25_17-08-12/train_mnist_66564_00004_4_weight_decay=0.8986_2023-07-25_17-08-12/events.out.tfevents.1690272502.DESKTOP-TSBOB2F', which is outside base dir 'C:\\Users\\lcglab\\ray_results\\train_mnist_2023-07-25_17-08-12\\train_mnist_66564_00004_4_weight_decay=0.8986_2023-07-25_17-08-12\\'. Retrying after sleeping for 1.0 seconds...\u001b[32m [repeated 6x across cluster] (Ray deduplicates logs by default. Set RAY_DEDUP_LOGS=0 to disable log deduplication, or see https://docs.ray.io/en/master/ray-observability/ray-logging.html#log-deduplication for more options.)\u001b[0m\n",
      "\u001b[2m\u001b[36m(train_mnist pid=3572)\u001b[0m Could not upload checkpoint to c://\\Users\\lcglab\\ray_results\\train_mnist_2023-07-25_17-08-12\\train_mnist_66564_00008_8_weight_decay=0.1709_2023-07-25_17-08-12 even after 3 retries.Please check if the credentials expired and that the remote filesystem is supported. For large checkpoints or artifacts, consider increasing `SyncConfig(sync_timeout)` (current value: 1800 seconds).\n",
      "2023-07-25 17:11:42,713\tINFO tune.py:1148 -- Total run time: 210.34 seconds (207.21 seconds for the tuning loop).\n",
      "\u001b[2m\u001b[36m(train_mnist pid=12100)\u001b[0m Could not upload checkpoint to c://\\Users\\lcglab\\ray_results\\train_mnist_2023-07-25_17-08-12\\train_mnist_66564_00004_4_weight_decay=0.8986_2023-07-25_17-08-12 even after 3 retries.Please check if the credentials expired and that the remote filesystem is supported. For large checkpoints or artifacts, consider increasing `SyncConfig(sync_timeout)` (current value: 1800 seconds).\n"
     ]
    }
   ],
   "source": [
    "data_path = Path.cwd().parent / \"data\"\n",
    "data_path.mkdir(exist_ok=True, parents=True)\n",
    "print(f\"Data path: {data_path}\")\n",
    "\n",
    "# Define the search space for hyperparameters\n",
    "search_space = {\n",
    "    \"lr\": tune.sample_from(lambda spec: 10 ** (-10 * np.random.rand())),\n",
    "    \"weight_decay\": tune.uniform(0.1, 0.9),\n",
    "    \"data_path\": str(data_path), # Not a hyperparameter\n",
    "}\n",
    "\n",
    "ray.init()\n",
    "\n",
    "# Download the dataset first\n",
    "datasets.MNIST(data_path, train=True, download=True)\n",
    "\n",
    "tuner = tune.Tuner(\n",
    "    train_mnist,\n",
    "    param_space=search_space,\n",
    "    tune_config=tune.TuneConfig(\n",
    "        num_samples=10,\n",
    "        scheduler=ASHAScheduler(metric=\"mean_accuracy\", mode=\"max\"),\n",
    "    )\n",
    ")\n",
    "results = tuner.fit()"
   ]
  },
  {
   "cell_type": "markdown",
   "metadata": {},
   "source": [
    "The results can be viewed in the Tensorboard.\n",
    "```bash\n",
    "tensorboard --logdir ~/ray_results\n",
    "```"
   ]
  },
  {
   "cell_type": "code",
   "execution_count": 19,
   "metadata": {},
   "outputs": [
    {
     "name": "stdout",
     "output_type": "stream",
     "text": [
      "{'mean_accuracy': 8.32, 'time_this_iter_s': 38.870152950286865, 'done': True, 'training_iteration': 1, 'trial_id': '66564_00000', 'date': '2023-07-25_17-09-01', 'timestamp': 1690272541, 'time_total_s': 38.870152950286865, 'pid': 14260, 'hostname': 'DESKTOP-TSBOB2F', 'node_ip': '127.0.0.1', 'config': {'lr': 5.109337714927793e-08, 'weight_decay': 0.32107756986403235, 'data_path': 'c:\\\\Users\\\\lcglab\\\\Documents\\\\Repo\\\\ray-intro\\\\data'}, 'time_since_restore': 38.870152950286865, 'iterations_since_restore': 1, 'experiment_tag': '0_weight_decay=0.3211'}\n",
      "{'mean_accuracy': 10.100000000000001, 'time_this_iter_s': 38.728158473968506, 'done': True, 'training_iteration': 1, 'trial_id': '66564_00001', 'date': '2023-07-25_17-09-01', 'timestamp': 1690272541, 'time_total_s': 38.728158473968506, 'pid': 6732, 'hostname': 'DESKTOP-TSBOB2F', 'node_ip': '127.0.0.1', 'config': {'lr': 0.32178576700003203, 'weight_decay': 0.8501266376886318, 'data_path': 'c:\\\\Users\\\\lcglab\\\\Documents\\\\Repo\\\\ray-intro\\\\data'}, 'time_since_restore': 38.728158473968506, 'iterations_since_restore': 1, 'experiment_tag': '1_weight_decay=0.8501'}\n",
      "{'mean_accuracy': 10.57, 'time_this_iter_s': 38.711225748062134, 'done': True, 'training_iteration': 1, 'trial_id': '66564_00002', 'date': '2023-07-25_17-09-01', 'timestamp': 1690272541, 'time_total_s': 38.711225748062134, 'pid': 31236, 'hostname': 'DESKTOP-TSBOB2F', 'node_ip': '127.0.0.1', 'config': {'lr': 3.6652174629606305e-09, 'weight_decay': 0.31332075407275883, 'data_path': 'c:\\\\Users\\\\lcglab\\\\Documents\\\\Repo\\\\ray-intro\\\\data'}, 'time_since_restore': 38.711225748062134, 'iterations_since_restore': 1, 'experiment_tag': '2_weight_decay=0.3133'}\n",
      "{'mean_accuracy': 11.48, 'time_this_iter_s': 38.544225215911865, 'done': True, 'training_iteration': 1, 'trial_id': '66564_00003', 'date': '2023-07-25_17-09-01', 'timestamp': 1690272541, 'time_total_s': 38.544225215911865, 'pid': 25432, 'hostname': 'DESKTOP-TSBOB2F', 'node_ip': '127.0.0.1', 'config': {'lr': 2.8934661940152605e-08, 'weight_decay': 0.5600924562573246, 'data_path': 'c:\\\\Users\\\\lcglab\\\\Documents\\\\Repo\\\\ray-intro\\\\data'}, 'time_since_restore': 38.544225215911865, 'iterations_since_restore': 1, 'experiment_tag': '3_weight_decay=0.5601'}\n",
      "{'mean_accuracy': 74.24, 'time_this_iter_s': 17.933914184570312, 'done': True, 'training_iteration': 10, 'trial_id': '66564_00004', 'date': '2023-07-25_17-11-39', 'timestamp': 1690272699, 'time_total_s': 196.81410455703735, 'pid': 12100, 'hostname': 'DESKTOP-TSBOB2F', 'node_ip': '127.0.0.1', 'config': {'lr': 0.1554884044722615, 'weight_decay': 0.8986023979413995, 'data_path': 'c:\\\\Users\\\\lcglab\\\\Documents\\\\Repo\\\\ray-intro\\\\data'}, 'time_since_restore': 196.81410455703735, 'iterations_since_restore': 10, 'experiment_tag': '4_weight_decay=0.8986'}\n",
      "{'mean_accuracy': 6.529999999999999, 'time_this_iter_s': 17.18307065963745, 'done': True, 'training_iteration': 10, 'trial_id': '66564_00005', 'date': '2023-07-25_17-11-33', 'timestamp': 1690272693, 'time_total_s': 190.2702932357788, 'pid': 14084, 'hostname': 'DESKTOP-TSBOB2F', 'node_ip': '127.0.0.1', 'config': {'lr': 4.140369156148557e-10, 'weight_decay': 0.49573531828326556, 'data_path': 'c:\\\\Users\\\\lcglab\\\\Documents\\\\Repo\\\\ray-intro\\\\data'}, 'time_since_restore': 190.2702932357788, 'iterations_since_restore': 10, 'experiment_tag': '5_weight_decay=0.4957'}\n",
      "{'mean_accuracy': 84.46000000000001, 'time_this_iter_s': 38.589224338531494, 'done': True, 'training_iteration': 1, 'trial_id': '66564_00006', 'date': '2023-07-25_17-09-01', 'timestamp': 1690272541, 'time_total_s': 38.589224338531494, 'pid': 28920, 'hostname': 'DESKTOP-TSBOB2F', 'node_ip': '127.0.0.1', 'config': {'lr': 0.0004369619977646808, 'weight_decay': 0.5157246330593495, 'data_path': 'c:\\\\Users\\\\lcglab\\\\Documents\\\\Repo\\\\ray-intro\\\\data'}, 'time_since_restore': 38.589224338531494, 'iterations_since_restore': 1, 'experiment_tag': '6_weight_decay=0.5157'}\n",
      "{'mean_accuracy': 8.68, 'time_this_iter_s': 39.40491199493408, 'done': True, 'training_iteration': 1, 'trial_id': '66564_00007', 'date': '2023-07-25_17-09-02', 'timestamp': 1690272542, 'time_total_s': 39.40491199493408, 'pid': 29192, 'hostname': 'DESKTOP-TSBOB2F', 'node_ip': '127.0.0.1', 'config': {'lr': 6.460163288279669e-08, 'weight_decay': 0.31995227038806623, 'data_path': 'c:\\\\Users\\\\lcglab\\\\Documents\\\\Repo\\\\ray-intro\\\\data'}, 'time_since_restore': 39.40491199493408, 'iterations_since_restore': 1, 'experiment_tag': '7_weight_decay=0.3200'}\n",
      "{'mean_accuracy': 94.71000000000001, 'time_this_iter_s': 16.95537543296814, 'done': True, 'training_iteration': 10, 'trial_id': '66564_00008', 'date': '2023-07-25_17-11-33', 'timestamp': 1690272693, 'time_total_s': 190.9655990600586, 'pid': 3572, 'hostname': 'DESKTOP-TSBOB2F', 'node_ip': '127.0.0.1', 'config': {'lr': 0.0006986165609002776, 'weight_decay': 0.17090205381717505, 'data_path': 'c:\\\\Users\\\\lcglab\\\\Documents\\\\Repo\\\\ray-intro\\\\data'}, 'time_since_restore': 190.9655990600586, 'iterations_since_restore': 10, 'experiment_tag': '8_weight_decay=0.1709'}\n",
      "{'mean_accuracy': 73.39, 'time_this_iter_s': 39.32591223716736, 'done': True, 'training_iteration': 1, 'trial_id': '66564_00009', 'date': '2023-07-25_17-09-02', 'timestamp': 1690272542, 'time_total_s': 39.32591223716736, 'pid': 22744, 'hostname': 'DESKTOP-TSBOB2F', 'node_ip': '127.0.0.1', 'config': {'lr': 0.000178874343844378, 'weight_decay': 0.39907347879177857, 'data_path': 'c:\\\\Users\\\\lcglab\\\\Documents\\\\Repo\\\\ray-intro\\\\data'}, 'time_since_restore': 39.32591223716736, 'iterations_since_restore': 1, 'experiment_tag': '9_weight_decay=0.3991'}\n"
     ]
    }
   ],
   "source": [
    "for result in results:\n",
    "    print(result.metrics)"
   ]
  }
 ],
 "metadata": {
  "kernelspec": {
   "display_name": "ray",
   "language": "python",
   "name": "python3"
  },
  "language_info": {
   "codemirror_mode": {
    "name": "ipython",
    "version": 3
   },
   "file_extension": ".py",
   "mimetype": "text/x-python",
   "name": "python",
   "nbconvert_exporter": "python",
   "pygments_lexer": "ipython3",
   "version": "3.8.17"
  },
  "orig_nbformat": 4
 },
 "nbformat": 4,
 "nbformat_minor": 2
}
