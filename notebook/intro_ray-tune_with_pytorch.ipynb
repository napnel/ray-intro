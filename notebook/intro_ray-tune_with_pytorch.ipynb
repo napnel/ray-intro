{
 "cells": [
  {
   "cell_type": "markdown",
   "metadata": {},
   "source": [
    "# Hyperparameter tuning with Ray Tune"
   ]
  },
  {
   "cell_type": "markdown",
   "metadata": {},
   "source": [
    "Here using the MNIST dataset and the Pytorch model, the learning rate and decay are tuned."
   ]
  },
  {
   "cell_type": "code",
   "execution_count": 1,
   "metadata": {},
   "outputs": [],
   "source": [
    "from pathlib import Path\n",
    "import numpy as np\n",
    "\n",
    "# Import pytorch modules\n",
    "import torch\n",
    "import torch.nn as nn\n",
    "import torch.nn.functional as F\n",
    "from torchvision import datasets, transforms\n",
    "from torch.utils.data import DataLoader\n",
    "\n",
    "# Import ray modules\n",
    "import ray\n",
    "from ray import air, tune\n",
    "from ray.air import session\n",
    "from ray.tune.schedulers import ASHAScheduler"
   ]
  },
  {
   "cell_type": "code",
   "execution_count": 2,
   "metadata": {},
   "outputs": [],
   "source": [
    "class SimpleConvNet(nn.Module):\n",
    "    def __init__(self):\n",
    "        super().__init__()\n",
    "        self.conv = nn.Conv2d(1, 3, kernel_size=3)\n",
    "        self.fc = nn.Linear(192, 10)\n",
    "\n",
    "    def forward(self, x):\n",
    "        x = F.relu(F.max_pool2d(self.conv(x), 3))\n",
    "        x = x.view(-1, 192)\n",
    "        x = self.fc(x)\n",
    "        x = F.log_softmax(x, dim=1)\n",
    "        return x\n",
    "\n",
    "# net = SimpleConvNet()\n",
    "# input_data = torch.randn(1, 1, 28, 28)\n",
    "# output = net(input_data)\n",
    "# print(output)"
   ]
  },
  {
   "cell_type": "code",
   "execution_count": 3,
   "metadata": {},
   "outputs": [],
   "source": [
    "# Change these values if you want the training to run quicker or slower.\n",
    "# EPOCH_SIZE = 512\n",
    "# TEST_SIZE = 256\n",
    "\n",
    "def train(model, optimizer, train_loader):\n",
    "    device = torch.device(\"cuda\" if torch.cuda.is_available() else \"cpu\")\n",
    "    model.train()\n",
    "    for batch_idx, (data, target) in enumerate(train_loader):\n",
    "        # We set this just for the example to run quickly.\n",
    "        # if batch_idx * len(data) > EPOCH_SIZE:\n",
    "        #     return\n",
    "        data, target = data.to(device), target.to(device)\n",
    "        optimizer.zero_grad()\n",
    "        output = model(data)\n",
    "        loss = F.nll_loss(output, target)\n",
    "        loss.backward()\n",
    "        optimizer.step()\n",
    "\n",
    "\n",
    "def test(model, data_loader):\n",
    "    device = torch.device(\"cuda\" if torch.cuda.is_available() else \"cpu\")\n",
    "    model.eval()\n",
    "    correct = 0\n",
    "    total = 0\n",
    "    with torch.no_grad():\n",
    "        for batch_idx, (data, target) in enumerate(data_loader):\n",
    "            # We set this just for the example to run quickly.\n",
    "            # if batch_idx * len(data) > TEST_SIZE:\n",
    "            #     break\n",
    "            data, target = data.to(device), target.to(device)\n",
    "            outputs = model(data)\n",
    "            _, predicted = torch.max(outputs.data, 1)\n",
    "            total += target.size(0)\n",
    "            correct += (predicted == target).sum().item()\n",
    "\n",
    "    return correct / total * 100"
   ]
  },
  {
   "cell_type": "code",
   "execution_count": 4,
   "metadata": {},
   "outputs": [],
   "source": [
    "def train_mnist(config: dict):\n",
    "    data_path = config[\"data_path\"]\n",
    "    # Data Setup\n",
    "    mnist_transforms = transforms.Compose(\n",
    "        [\n",
    "            transforms.ToTensor(),\n",
    "            transforms.Normalize((0.1307, ), (0.3081, ))\n",
    "        ]\n",
    "    )\n",
    "\n",
    "    train_loader = DataLoader(\n",
    "        datasets.MNIST(data_path, train=True, download=True, transform=mnist_transforms),\n",
    "        batch_size=256,\n",
    "        shuffle=True\n",
    "    )\n",
    "    test_loader = DataLoader(\n",
    "        datasets.MNIST(data_path, train=False, transform=mnist_transforms),\n",
    "        batch_size=256,\n",
    "        shuffle=True\n",
    "    )\n",
    "\n",
    "    device = torch.device(\"cuda\" if torch.cuda.is_available() else \"cpu\")\n",
    "\n",
    "    model = SimpleConvNet()\n",
    "    model.to(device)\n",
    "\n",
    "    optimizer = torch.optim.AdamW(model.parameters(), lr=config[\"lr\"], weight_decay=config[\"weight_decay\"])\n",
    "    for i in range(10):\n",
    "        train(model, optimizer, train_loader)\n",
    "        acc = test(model, test_loader)\n",
    "\n",
    "        # Send the current training result back to Tune\n",
    "        session.report({\"mean_accuracy\": acc})\n",
    "\n",
    "        if i % 5 == 0:\n",
    "            # This saves the model to the trial directory\n",
    "            torch.save(model.state_dict(), \"./model.pth\")"
   ]
  },
  {
   "cell_type": "code",
   "execution_count": 5,
   "metadata": {},
   "outputs": [
    {
     "data": {
      "text/html": [
       "<div class=\"tuneStatus\">\n",
       "  <div style=\"display: flex;flex-direction: row\">\n",
       "    <div style=\"display: flex;flex-direction: column;\">\n",
       "      <h3>Tune Status</h3>\n",
       "      <table>\n",
       "<tbody>\n",
       "<tr><td>Current time:</td><td>2023-07-25 17:11:39</td></tr>\n",
       "<tr><td>Running for: </td><td>00:03:27.23        </td></tr>\n",
       "<tr><td>Memory:      </td><td>26.3/63.7 GiB      </td></tr>\n",
       "</tbody>\n",
       "</table>\n",
       "    </div>\n",
       "    <div class=\"vDivider\"></div>\n",
       "    <div class=\"systemInfo\">\n",
       "      <h3>System Info</h3>\n",
       "      Using AsyncHyperBand: num_stopped=7<br>Bracket: Iter 64.000: None | Iter 16.000: None | Iter 4.000: 87.995 | Iter 1.000: 81.5425<br>Logical resource usage: 1.0/16 CPUs, 0/2 GPUs\n",
       "    </div>\n",
       "    \n",
       "  </div>\n",
       "  <div class=\"hDivider\"></div>\n",
       "  <div class=\"trialStatus\">\n",
       "    <h3>Trial Status</h3>\n",
       "    <table>\n",
       "<thead>\n",
       "<tr><th>Trial name             </th><th>status    </th><th>loc            </th><th style=\"text-align: right;\">  weight_decay</th><th style=\"text-align: right;\">  acc</th><th style=\"text-align: right;\">  iter</th><th style=\"text-align: right;\">  total time (s)</th></tr>\n",
       "</thead>\n",
       "<tbody>\n",
       "<tr><td>train_mnist_66564_00000</td><td>TERMINATED</td><td>127.0.0.1:14260</td><td style=\"text-align: right;\">      0.321078</td><td style=\"text-align: right;\"> 8.32</td><td style=\"text-align: right;\">     1</td><td style=\"text-align: right;\">         38.8702</td></tr>\n",
       "<tr><td>train_mnist_66564_00001</td><td>TERMINATED</td><td>127.0.0.1:6732 </td><td style=\"text-align: right;\">      0.850127</td><td style=\"text-align: right;\">10.1 </td><td style=\"text-align: right;\">     1</td><td style=\"text-align: right;\">         38.7282</td></tr>\n",
       "<tr><td>train_mnist_66564_00002</td><td>TERMINATED</td><td>127.0.0.1:31236</td><td style=\"text-align: right;\">      0.313321</td><td style=\"text-align: right;\">10.57</td><td style=\"text-align: right;\">     1</td><td style=\"text-align: right;\">         38.7112</td></tr>\n",
       "<tr><td>train_mnist_66564_00003</td><td>TERMINATED</td><td>127.0.0.1:25432</td><td style=\"text-align: right;\">      0.560092</td><td style=\"text-align: right;\">11.48</td><td style=\"text-align: right;\">     1</td><td style=\"text-align: right;\">         38.5442</td></tr>\n",
       "<tr><td>train_mnist_66564_00004</td><td>TERMINATED</td><td>127.0.0.1:12100</td><td style=\"text-align: right;\">      0.898602</td><td style=\"text-align: right;\">74.24</td><td style=\"text-align: right;\">    10</td><td style=\"text-align: right;\">        196.814 </td></tr>\n",
       "<tr><td>train_mnist_66564_00005</td><td>TERMINATED</td><td>127.0.0.1:14084</td><td style=\"text-align: right;\">      0.495735</td><td style=\"text-align: right;\"> 6.53</td><td style=\"text-align: right;\">    10</td><td style=\"text-align: right;\">        190.27  </td></tr>\n",
       "<tr><td>train_mnist_66564_00006</td><td>TERMINATED</td><td>127.0.0.1:28920</td><td style=\"text-align: right;\">      0.515725</td><td style=\"text-align: right;\">84.46</td><td style=\"text-align: right;\">     1</td><td style=\"text-align: right;\">         38.5892</td></tr>\n",
       "<tr><td>train_mnist_66564_00007</td><td>TERMINATED</td><td>127.0.0.1:29192</td><td style=\"text-align: right;\">      0.319952</td><td style=\"text-align: right;\"> 8.68</td><td style=\"text-align: right;\">     1</td><td style=\"text-align: right;\">         39.4049</td></tr>\n",
       "<tr><td>train_mnist_66564_00008</td><td>TERMINATED</td><td>127.0.0.1:3572 </td><td style=\"text-align: right;\">      0.170902</td><td style=\"text-align: right;\">94.71</td><td style=\"text-align: right;\">    10</td><td style=\"text-align: right;\">        190.966 </td></tr>\n",
       "<tr><td>train_mnist_66564_00009</td><td>TERMINATED</td><td>127.0.0.1:22744</td><td style=\"text-align: right;\">      0.399073</td><td style=\"text-align: right;\">73.39</td><td style=\"text-align: right;\">     1</td><td style=\"text-align: right;\">         39.3259</td></tr>\n",
       "</tbody>\n",
       "</table>\n",
       "  </div>\n",
       "</div>\n",
       "<style>\n",
       ".tuneStatus {\n",
       "  color: var(--jp-ui-font-color1);\n",
       "}\n",
       ".tuneStatus .systemInfo {\n",
       "  display: flex;\n",
       "  flex-direction: column;\n",
       "}\n",
       ".tuneStatus td {\n",
       "  white-space: nowrap;\n",
       "}\n",
       ".tuneStatus .trialStatus {\n",
       "  display: flex;\n",
       "  flex-direction: column;\n",
       "}\n",
       ".tuneStatus h3 {\n",
       "  font-weight: bold;\n",
       "}\n",
       ".tuneStatus .hDivider {\n",
       "  border-bottom-width: var(--jp-border-width);\n",
       "  border-bottom-color: var(--jp-border-color0);\n",
       "  border-bottom-style: solid;\n",
       "}\n",
       ".tuneStatus .vDivider {\n",
       "  border-left-width: var(--jp-border-width);\n",
       "  border-left-color: var(--jp-border-color0);\n",
       "  border-left-style: solid;\n",
       "  margin: 0.5em 1em 0.5em 1em;\n",
       "}\n",
       "</style>\n"
      ],
      "text/plain": [
       "<IPython.core.display.HTML object>"
      ]
     },
     "metadata": {},
     "output_type": "display_data"
    },
    {
     "name": "stderr",
     "output_type": "stream",
     "text": [
      "\u001b[2m\u001b[36m(train_mnist pid=14084)\u001b[0m Caught sync error: Sync process failed: GetFileInfo() yielded path 'C:/Users/lcglab/ray_results/train_mnist_2023-07-25_17-08-12/train_mnist_66564_00005_5_weight_decay=0.4957_2023-07-25_17-08-12/events.out.tfevents.1690272502.DESKTOP-TSBOB2F', which is outside base dir 'C:\\Users\\lcglab\\ray_results\\train_mnist_2023-07-25_17-08-12\\train_mnist_66564_00005_5_weight_decay=0.4957_2023-07-25_17-08-12\\'. Retrying after sleeping for 1.0 seconds...\n",
      "\u001b[2m\u001b[36m(train_mnist pid=14084)\u001b[0m Could not upload checkpoint to c://\\Users\\lcglab\\ray_results\\train_mnist_2023-07-25_17-08-12\\train_mnist_66564_00005_5_weight_decay=0.4957_2023-07-25_17-08-12 even after 3 retries.Please check if the credentials expired and that the remote filesystem is supported. For large checkpoints or artifacts, consider increasing `SyncConfig(sync_timeout)` (current value: 1800 seconds).\n",
      "2023-07-25 17:11:39,678\tWARNING tune.py:1122 -- Trial Runner checkpointing failed: Sync process failed: GetFileInfo() yielded path 'C:/Users/lcglab/ray_results/train_mnist_2023-07-25_17-08-12/basic-variant-state-2023-07-25_17-08-12.json', which is outside base dir 'C:\\Users\\lcglab\\ray_results\\train_mnist_2023-07-25_17-08-12'\n",
      "\u001b[2m\u001b[36m(train_mnist pid=12100)\u001b[0m Caught sync error: Sync process failed: GetFileInfo() yielded path 'C:/Users/lcglab/ray_results/train_mnist_2023-07-25_17-08-12/train_mnist_66564_00004_4_weight_decay=0.8986_2023-07-25_17-08-12/events.out.tfevents.1690272502.DESKTOP-TSBOB2F', which is outside base dir 'C:\\Users\\lcglab\\ray_results\\train_mnist_2023-07-25_17-08-12\\train_mnist_66564_00004_4_weight_decay=0.8986_2023-07-25_17-08-12\\'. Retrying after sleeping for 1.0 seconds...\u001b[32m [repeated 6x across cluster] (Ray deduplicates logs by default. Set RAY_DEDUP_LOGS=0 to disable log deduplication, or see https://docs.ray.io/en/master/ray-observability/ray-logging.html#log-deduplication for more options.)\u001b[0m\n",
      "\u001b[2m\u001b[36m(train_mnist pid=3572)\u001b[0m Could not upload checkpoint to c://\\Users\\lcglab\\ray_results\\train_mnist_2023-07-25_17-08-12\\train_mnist_66564_00008_8_weight_decay=0.1709_2023-07-25_17-08-12 even after 3 retries.Please check if the credentials expired and that the remote filesystem is supported. For large checkpoints or artifacts, consider increasing `SyncConfig(sync_timeout)` (current value: 1800 seconds).\n",
      "2023-07-25 17:11:42,713\tINFO tune.py:1148 -- Total run time: 210.34 seconds (207.21 seconds for the tuning loop).\n",
      "\u001b[2m\u001b[36m(train_mnist pid=12100)\u001b[0m Could not upload checkpoint to c://\\Users\\lcglab\\ray_results\\train_mnist_2023-07-25_17-08-12\\train_mnist_66564_00004_4_weight_decay=0.8986_2023-07-25_17-08-12 even after 3 retries.Please check if the credentials expired and that the remote filesystem is supported. For large checkpoints or artifacts, consider increasing `SyncConfig(sync_timeout)` (current value: 1800 seconds).\n"
     ]
    }
   ],
   "source": [
    "data_path = Path.cwd().parent / \"data\"\n",
    "data_path.mkdir(exist_ok=True, parents=True)\n",
    "print(f\"Data path: {data_path}\")\n",
    "\n",
    "search_space = {\n",
    "    \"lr\": tune.sample_from(lambda spec: 10 ** (-10 * np.random.rand())),\n",
    "    \"weight_decay\": tune.uniform(0.1, 0.9),\n",
    "    \"data_path\": str(data_path), # Not a hyperparameter\n",
    "}\n",
    "\n",
    "# Uncomment this to enable distributed execution\n",
    "ray.init()\n",
    "\n",
    "# Download the dataset first\n",
    "datasets.MNIST(data_path, train=True, download=True)\n",
    "\n",
    "tuner = tune.Tuner(\n",
    "    train_mnist,\n",
    "    param_space=search_space,\n",
    "    tune_config=tune.TuneConfig(\n",
    "        num_samples=10,\n",
    "        scheduler=ASHAScheduler(metric=\"mean_accuracy\", mode=\"max\"),\n",
    "    )\n",
    ")\n",
    "results = tuner.fit()"
   ]
  },
  {
   "cell_type": "code",
   "execution_count": 6,
   "metadata": {},
   "outputs": [
    {
     "data": {
      "image/png": "[encoded data removed]",
      "text/plain": [
       "<Figure size 640x480 with 1 Axes>"
      ]
     },
     "metadata": {},
     "output_type": "display_data"
    }
   ],
   "source": [
    "dfs = {result.log_dir: result.metrics_dataframe for result in results}\n",
    "ax = None\n",
    "for d in dfs.values():\n",
    "    ax = d.mean_accuracy.plot(ax=ax)"
   ]
  },
  {
   "cell_type": "code",
   "execution_count": null,
   "metadata": {},
   "outputs": [],
   "source": []
  }
 ],
 "metadata": {
  "kernelspec": {
   "display_name": "ray",
   "language": "python",
   "name": "python3"
  },
  "language_info": {
   "codemirror_mode": {
    "name": "ipython",
    "version": 3
   },
   "file_extension": ".py",
   "mimetype": "text/x-python",
   "name": "python",
   "nbconvert_exporter": "python",
   "pygments_lexer": "ipython3",
   "version": "3.8.17"
  },
  "orig_nbformat": 4
 },
 "nbformat": 4,
 "nbformat_minor": 2
}
